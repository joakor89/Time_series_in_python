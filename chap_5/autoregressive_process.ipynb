{
 "cells": [
  {
   "cell_type": "markdown",
   "id": "8eb5ffa3-263a-4fe2-9f3d-63fc0f20038c",
   "metadata": {},
   "source": [
    "# Modeling an Autoregressive Process\n",
    "\n",
    "#### Loading Libraries"
   ]
  },
  {
   "cell_type": "code",
   "execution_count": null,
   "id": "8fef54f3-aca2-4950-a206-4d1e2da80b04",
   "metadata": {},
   "outputs": [],
   "source": []
  }
 ],
 "metadata": {
  "kernelspec": {
   "display_name": "Python 3 (ipykernel)",
   "language": "python",
   "name": "python3"
  },
  "language_info": {
   "codemirror_mode": {
    "name": "ipython",
    "version": 3
   },
   "file_extension": ".py",
   "mimetype": "text/x-python",
   "name": "python",
   "nbconvert_exporter": "python",
   "pygments_lexer": "ipython3",
   "version": "3.11.7"
  }
 },
 "nbformat": 4,
 "nbformat_minor": 5
}
