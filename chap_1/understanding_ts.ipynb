{
 "cells": [
  {
   "cell_type": "markdown",
   "id": "6295f3c3-6e0e-4f4a-8ffa-4c5486ee89cb",
   "metadata": {},
   "source": [
    "# Understanding Time Series Forecasting\n",
    "\n",
    "#### Loading Libraries"
   ]
  },
  {
   "cell_type": "code",
   "execution_count": null,
   "id": "0bbceba5-6a95-419b-b3c8-282bba13cdb6",
   "metadata": {},
   "outputs": [],
   "source": []
  }
 ],
 "metadata": {
  "kernelspec": {
   "display_name": "Python 3 (ipykernel)",
   "language": "python",
   "name": "python3"
  },
  "language_info": {
   "codemirror_mode": {
    "name": "ipython",
    "version": 3
   },
   "file_extension": ".py",
   "mimetype": "text/x-python",
   "name": "python",
   "nbconvert_exporter": "python",
   "pygments_lexer": "ipython3",
   "version": "3.11.7"
  }
 },
 "nbformat": 4,
 "nbformat_minor": 5
}
